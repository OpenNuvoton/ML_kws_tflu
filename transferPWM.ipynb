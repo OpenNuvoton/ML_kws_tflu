{
 "cells": [
  {
   "cell_type": "code",
   "execution_count": 1,
   "id": "faec2c78-9261-41c3-a8ed-79668d4c7c7c",
   "metadata": {},
   "outputs": [],
   "source": [
    "import ipywidgets as widgets\n",
    "from ipywidgets import interact, interact_manual\n",
    "from IPython.display import Image, clear_output\n",
    "from pydub import AudioSegment\n",
    "import os\n",
    "\n",
    "import math\n",
    "\n",
    "import matplotlib.pyplot as plt\n",
    "import numpy as np\n",
    "from scipy.io.wavfile import read, write"
   ]
  },
  {
   "cell_type": "code",
   "execution_count": 2,
   "id": "752704de-74ea-4c22-b91f-bfbb68efc6a3",
   "metadata": {},
   "outputs": [],
   "source": [
    "class audioFileP:  #father class\n",
    "    def __init__(self, folder, filename, output):\n",
    "        self.folder = folder\n",
    "        self.filename = filename\n",
    "        self.filepath = folder + '\\\\' + filename\n",
    "        self.out = output\n",
    "        self.rate, self.data = read(self.filepath)\n",
    "    \n",
    "        print(\"Sample rate: {} Hz\".format(self.rate))\n",
    "        print(\"Data type: {}\".format(self.data.dtype))\n",
    "        print(len(self.data))\n",
    "         \n",
    "    def create_tag_folder(self, tag_name):\n",
    "        dir_path = os.path.join(os.getcwd(), tag_name)\n",
    "        try:\n",
    "            os.mkdir(dir_path)\n",
    "        except OSError as error:\n",
    "            print(error)\n",
    "            print('skip create')\n",
    "            \n",
    "        print(os.getcwd())\n",
    "    def main(self):\n",
    "        with open(self.out, 'w') as f:\n",
    "            f.write(\"#define WAVE_DATA {\")\n",
    "            self._write_tflite_data(f, self.out)\n",
    "        \n",
    "    \n",
    "    def _write_tflite_data(self, open_file, out_path):\n",
    "        \n",
    "        line=''\n",
    "        i = 1;\n",
    "        for i, v in enumerate(self.data):\n",
    "            line = line + str(v) + ','\n",
    "        line = line + '}\\n'\n",
    "        open_file.write(line)\n",
    "           #try:\n",
    "           #    line = line + str(v) + ','\n",
    "           #    if i % 20 == 0:\n",
    "           #        line = line + '\\n\\t'\n",
    "           #        open_file.write(line)\n",
    "           #        line = '' \n",
    "           #    i += 1\n",
    "           #except StopIteration:\n",
    "           #    ine = line[:-2] + '};\\n'\n",
    "           #    open_file.write(line)\n",
    "           #    break\n",
    "        \n",
    "        #C:\\Users\\ML_m460bsp_tflu\\SampleCode\\tflu_kws_arm\\raw\n",
    "        #raw/left_2.h\n",
    "        \n"
   ]
  },
  {
   "cell_type": "code",
   "execution_count": 30,
   "id": "6f6b0c69-564b-4733-9d37-baaeee828c3b",
   "metadata": {},
   "outputs": [
    {
     "name": "stdout",
     "output_type": "stream",
     "text": [
      "Sample rate: 16000 Hz\n",
      "Data type: int16\n",
      "16000\n"
     ]
    }
   ],
   "source": [
    "#x = audioFileP('tmp/speech_dataset/one_cc2', '1660816790_1_nohash.wav', 'C:/Users/ML_m460bsp_tflu/SampleCode/tflu_kws_arm_mc/raw/one_cc_3.h')\n",
    "x = audioFileP('C:/Users/USERNAME/MICRO_ML/ML_audio_aq/dataset/test_slice', '1660877127_test4_4_nohash.wav', 'C:/Users/ML_m460bsp_tflu/SampleCode/tflu_kws_arm_mc/raw/four_test_4.h')\n",
    "x.main()"
   ]
  },
  {
   "cell_type": "code",
   "execution_count": null,
   "id": "91f45153-df23-4ddf-b4ef-05ac0abc25ed",
   "metadata": {},
   "outputs": [],
   "source": []
  }
 ],
 "metadata": {
  "kernelspec": {
   "display_name": "Python 3 (ipykernel)",
   "language": "python",
   "name": "python3"
  },
  "language_info": {
   "codemirror_mode": {
    "name": "ipython",
    "version": 3
   },
   "file_extension": ".py",
   "mimetype": "text/x-python",
   "name": "python",
   "nbconvert_exporter": "python",
   "pygments_lexer": "ipython3",
   "version": "3.8.13"
  }
 },
 "nbformat": 4,
 "nbformat_minor": 5
}
